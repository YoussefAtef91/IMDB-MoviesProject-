{
 "cells": [
  {
   "cell_type": "code",
   "execution_count": 28,
   "id": "00fc4c1b",
   "metadata": {},
   "outputs": [],
   "source": [
    "import pandas as pd #for data cleaning\n",
    "import numpy as np #for linear algebra\n",
    "from sklearn.metrics.pairwise import cosine_similarity\n",
    "from sklearn.feature_extraction.text import CountVectorizer"
   ]
  },
  {
   "cell_type": "code",
   "execution_count": 29,
   "id": "5b798c4a",
   "metadata": {},
   "outputs": [
    {
     "name": "stderr",
     "output_type": "stream",
     "text": [
      "C:\\Users\\Youssef Atef\\anaconda3\\lib\\site-packages\\IPython\\core\\interactiveshell.py:3165: DtypeWarning: Columns (3) have mixed types.Specify dtype option on import or set low_memory=False.\n",
      "  has_raised = await self.run_ast_nodes(code_ast.body, cell_name,\n"
     ]
    }
   ],
   "source": [
    "#loading the \"movies.csv\" file as a variable called \"movies\"\n",
    "movies = pd.read_csv(\"movies.csv\")"
   ]
  },
  {
   "cell_type": "code",
   "execution_count": 30,
   "id": "2562989f",
   "metadata": {},
   "outputs": [
    {
     "data": {
      "text/plain": [
       "Index(['imdb_title_id', 'title', 'original_title', 'year', 'date_published',\n",
       "       'genre', 'duration', 'country', 'language', 'director', 'writer',\n",
       "       'production_company', 'actors', 'description', 'avg_vote', 'votes',\n",
       "       'budget', 'usa_gross_income', 'worlwide_gross_income', 'metascore',\n",
       "       'reviews_from_users', 'reviews_from_critics'],\n",
       "      dtype='object')"
      ]
     },
     "execution_count": 30,
     "metadata": {},
     "output_type": "execute_result"
    }
   ],
   "source": [
    "#pritning the columns of the dataframe\n",
    "movies.columns"
   ]
  },
  {
   "cell_type": "code",
   "execution_count": 31,
   "id": "bf3656b8",
   "metadata": {},
   "outputs": [],
   "source": [
    "#Making a function that takes a dataset as a parameter and store a specific values of each row as a string and store these\n",
    "#strings in a list and then return that list\n",
    "def features(data):\n",
    "    important_features = []\n",
    "    for i in range(0,movies.shape[0]):\n",
    "        important_features.append(data['title'][i] +' '+ data['genre'][i]+' ' + str(data[\"director\"][i]) + \" \" + str(data[\"country\"][i]) + \" \" + str(data[\"language\"][i]) + \" \" + str(data[\"writer\"][i])+ \" \" + str(data[\"actors\"][i])+ \" \" + str(data[\"description\"][i]))\n",
    "    return important_features"
   ]
  },
  {
   "cell_type": "code",
   "execution_count": 32,
   "id": "9c075698",
   "metadata": {},
   "outputs": [],
   "source": [
    "#calling the function and storing it in a new column\n",
    "movies['important_feature'] = features(movies)"
   ]
  },
  {
   "cell_type": "code",
   "execution_count": 33,
   "id": "b8cb8e60",
   "metadata": {},
   "outputs": [
    {
     "data": {
      "text/plain": [
       "0        Miss Jerry Romance Alexander Black USA None Al...\n",
       "1        The Story of the Kelly Gang Biography, Crime, ...\n",
       "2        Den sorte drøm Drama Urban Gad Germany, Denmar...\n",
       "3        Cleopatra Drama, History Charles L. Gaskill US...\n",
       "4        L'Inferno Adventure, Drama, Fantasy Francesco ...\n",
       "                               ...                        \n",
       "85850    Le lion Comedy Ludovic Colbeau-Justin France, ...\n",
       "85851    De Beentjes van Sint-Hildegard Comedy, Drama J...\n",
       "85852    Padmavyuhathile Abhimanyu Drama Vineesh Aarady...\n",
       "85853    Sokagin Çocuklari Drama, Family Ahmet Faik Aki...\n",
       "85854    La vida sense la Sara Amat Drama Laura Jou Spa...\n",
       "Name: important_feature, Length: 85855, dtype: object"
      ]
     },
     "execution_count": 33,
     "metadata": {},
     "output_type": "execute_result"
    }
   ],
   "source": [
    "#printing the column\n",
    "movies['important_feature']"
   ]
  },
  {
   "cell_type": "code",
   "execution_count": 34,
   "id": "60a20652",
   "metadata": {},
   "outputs": [
    {
     "data": {
      "text/plain": [
       "Index(['imdb_title_id', 'title', 'original_title', 'year', 'date_published',\n",
       "       'genre', 'duration', 'country', 'language', 'director', 'writer',\n",
       "       'production_company', 'actors', 'description', 'avg_vote', 'votes',\n",
       "       'budget', 'usa_gross_income', 'worlwide_gross_income', 'metascore',\n",
       "       'reviews_from_users', 'reviews_from_critics', 'important_feature'],\n",
       "      dtype='object')"
      ]
     },
     "execution_count": 34,
     "metadata": {},
     "output_type": "execute_result"
    }
   ],
   "source": [
    "movies.columns"
   ]
  },
  {
   "cell_type": "code",
   "execution_count": 35,
   "id": "737d66c4",
   "metadata": {},
   "outputs": [
    {
     "data": {
      "text/plain": [
       "imdb_title_id            False\n",
       "title                    False\n",
       "original_title           False\n",
       "year                     False\n",
       "date_published           False\n",
       "genre                    False\n",
       "duration                 False\n",
       "country                   True\n",
       "language                  True\n",
       "director                  True\n",
       "writer                    True\n",
       "production_company        True\n",
       "actors                    True\n",
       "description               True\n",
       "avg_vote                 False\n",
       "votes                    False\n",
       "budget                    True\n",
       "usa_gross_income          True\n",
       "worlwide_gross_income     True\n",
       "metascore                 True\n",
       "reviews_from_users        True\n",
       "reviews_from_critics      True\n",
       "important_feature        False\n",
       "dtype: bool"
      ]
     },
     "execution_count": 35,
     "metadata": {},
     "output_type": "execute_result"
    }
   ],
   "source": [
    "#checking for null values\n",
    "movies.isnull().any()"
   ]
  },
  {
   "cell_type": "code",
   "execution_count": 36,
   "id": "45784f25",
   "metadata": {},
   "outputs": [],
   "source": [
    "#dropping the null values\n",
    "movies = movies.dropna()"
   ]
  },
  {
   "cell_type": "code",
   "execution_count": 37,
   "id": "29dde442",
   "metadata": {},
   "outputs": [],
   "source": [
    "#re-sorting the dataframe in an descending order of date published\n",
    "movies = movies.sort_values('date_published', ascending = False)"
   ]
  },
  {
   "cell_type": "code",
   "execution_count": 38,
   "id": "674892e9",
   "metadata": {
    "scrolled": true
   },
   "outputs": [],
   "source": [
    "#slicing the first 10,000 rows of the datafarme\n",
    "movies = movies.head(10000)"
   ]
  },
  {
   "cell_type": "code",
   "execution_count": 39,
   "id": "6326b9ad",
   "metadata": {},
   "outputs": [
    {
     "data": {
      "text/html": [
       "<div>\n",
       "<style scoped>\n",
       "    .dataframe tbody tr th:only-of-type {\n",
       "        vertical-align: middle;\n",
       "    }\n",
       "\n",
       "    .dataframe tbody tr th {\n",
       "        vertical-align: top;\n",
       "    }\n",
       "\n",
       "    .dataframe thead th {\n",
       "        text-align: right;\n",
       "    }\n",
       "</style>\n",
       "<table border=\"1\" class=\"dataframe\">\n",
       "  <thead>\n",
       "    <tr style=\"text-align: right;\">\n",
       "      <th></th>\n",
       "      <th>imdb_title_id</th>\n",
       "      <th>title</th>\n",
       "      <th>original_title</th>\n",
       "      <th>year</th>\n",
       "      <th>date_published</th>\n",
       "      <th>genre</th>\n",
       "      <th>duration</th>\n",
       "      <th>country</th>\n",
       "      <th>language</th>\n",
       "      <th>director</th>\n",
       "      <th>...</th>\n",
       "      <th>description</th>\n",
       "      <th>avg_vote</th>\n",
       "      <th>votes</th>\n",
       "      <th>budget</th>\n",
       "      <th>usa_gross_income</th>\n",
       "      <th>worlwide_gross_income</th>\n",
       "      <th>metascore</th>\n",
       "      <th>reviews_from_users</th>\n",
       "      <th>reviews_from_critics</th>\n",
       "      <th>important_feature</th>\n",
       "    </tr>\n",
       "  </thead>\n",
       "  <tbody>\n",
       "    <tr>\n",
       "      <th>52318</th>\n",
       "      <td>tt10059518</td>\n",
       "      <td>Il giorno sbagliato</td>\n",
       "      <td>Unhinged</td>\n",
       "      <td>2020</td>\n",
       "      <td>2020-09-24</td>\n",
       "      <td>Action, Thriller</td>\n",
       "      <td>90</td>\n",
       "      <td>USA</td>\n",
       "      <td>English</td>\n",
       "      <td>Derrick Borte</td>\n",
       "      <td>...</td>\n",
       "      <td>After a confrontation with an unstable man at ...</td>\n",
       "      <td>6.2</td>\n",
       "      <td>4720</td>\n",
       "      <td>$ 33000000</td>\n",
       "      <td>$ 9025406</td>\n",
       "      <td>$ 21025406</td>\n",
       "      <td>40.0</td>\n",
       "      <td>159.0</td>\n",
       "      <td>119.0</td>\n",
       "      <td>Il giorno sbagliato Action, Thriller Derrick B...</td>\n",
       "    </tr>\n",
       "    <tr>\n",
       "      <th>80369</th>\n",
       "      <td>tt6348138</td>\n",
       "      <td>Mister Link</td>\n",
       "      <td>Missing Link</td>\n",
       "      <td>2019</td>\n",
       "      <td>2020-09-17</td>\n",
       "      <td>Animation, Adventure, Comedy</td>\n",
       "      <td>93</td>\n",
       "      <td>Canada, USA</td>\n",
       "      <td>English, Spanish, Tibetan</td>\n",
       "      <td>Chris Butler</td>\n",
       "      <td>...</td>\n",
       "      <td>Mr. Link recruits explorer Sir Lionel Frost to...</td>\n",
       "      <td>6.7</td>\n",
       "      <td>20080</td>\n",
       "      <td>$ 100000000</td>\n",
       "      <td>$ 16649539</td>\n",
       "      <td>$ 26249469</td>\n",
       "      <td>68.0</td>\n",
       "      <td>173.0</td>\n",
       "      <td>152.0</td>\n",
       "      <td>Mister Link Animation, Adventure, Comedy Chris...</td>\n",
       "    </tr>\n",
       "    <tr>\n",
       "      <th>75419</th>\n",
       "      <td>tt4682266</td>\n",
       "      <td>New Mutants</td>\n",
       "      <td>The New Mutants</td>\n",
       "      <td>2020</td>\n",
       "      <td>2020-09-02</td>\n",
       "      <td>Action, Horror, Sci-Fi</td>\n",
       "      <td>94</td>\n",
       "      <td>USA, Canada</td>\n",
       "      <td>English</td>\n",
       "      <td>Josh Boone</td>\n",
       "      <td>...</td>\n",
       "      <td>Five young mutants, just discovering their abi...</td>\n",
       "      <td>5.6</td>\n",
       "      <td>4621</td>\n",
       "      <td>$ 67000000</td>\n",
       "      <td>$ 7487310</td>\n",
       "      <td>$ 10387310</td>\n",
       "      <td>41.0</td>\n",
       "      <td>173.0</td>\n",
       "      <td>54.0</td>\n",
       "      <td>New Mutants Action, Horror, Sci-Fi Josh Boone ...</td>\n",
       "    </tr>\n",
       "  </tbody>\n",
       "</table>\n",
       "<p>3 rows × 23 columns</p>\n",
       "</div>"
      ],
      "text/plain": [
       "      imdb_title_id                title   original_title  year  \\\n",
       "52318    tt10059518  Il giorno sbagliato         Unhinged  2020   \n",
       "80369     tt6348138          Mister Link     Missing Link  2019   \n",
       "75419     tt4682266          New Mutants  The New Mutants  2020   \n",
       "\n",
       "      date_published                         genre  duration      country  \\\n",
       "52318     2020-09-24              Action, Thriller        90          USA   \n",
       "80369     2020-09-17  Animation, Adventure, Comedy        93  Canada, USA   \n",
       "75419     2020-09-02        Action, Horror, Sci-Fi        94  USA, Canada   \n",
       "\n",
       "                        language       director  ...  \\\n",
       "52318                    English  Derrick Borte  ...   \n",
       "80369  English, Spanish, Tibetan   Chris Butler  ...   \n",
       "75419                    English     Josh Boone  ...   \n",
       "\n",
       "                                             description avg_vote  votes  \\\n",
       "52318  After a confrontation with an unstable man at ...      6.2   4720   \n",
       "80369  Mr. Link recruits explorer Sir Lionel Frost to...      6.7  20080   \n",
       "75419  Five young mutants, just discovering their abi...      5.6   4621   \n",
       "\n",
       "            budget  usa_gross_income  worlwide_gross_income metascore  \\\n",
       "52318   $ 33000000         $ 9025406             $ 21025406      40.0   \n",
       "80369  $ 100000000        $ 16649539             $ 26249469      68.0   \n",
       "75419   $ 67000000         $ 7487310             $ 10387310      41.0   \n",
       "\n",
       "      reviews_from_users reviews_from_critics  \\\n",
       "52318              159.0                119.0   \n",
       "80369              173.0                152.0   \n",
       "75419              173.0                 54.0   \n",
       "\n",
       "                                       important_feature  \n",
       "52318  Il giorno sbagliato Action, Thriller Derrick B...  \n",
       "80369  Mister Link Animation, Adventure, Comedy Chris...  \n",
       "75419  New Mutants Action, Horror, Sci-Fi Josh Boone ...  \n",
       "\n",
       "[3 rows x 23 columns]"
      ]
     },
     "execution_count": 39,
     "metadata": {},
     "output_type": "execute_result"
    }
   ],
   "source": [
    "#printing the first 3 rows of the dataframe\n",
    "movies.head(3)"
   ]
  },
  {
   "cell_type": "code",
   "execution_count": 40,
   "id": "da21f3b1",
   "metadata": {},
   "outputs": [],
   "source": [
    "#fitting the important features column into the countVectorizer\n",
    "cm = CountVectorizer().fit_transform(movies['important_feature'])"
   ]
  },
  {
   "cell_type": "code",
   "execution_count": 41,
   "id": "1ae83f33",
   "metadata": {},
   "outputs": [
    {
     "name": "stdout",
     "output_type": "stream",
     "text": [
      "[[1.         0.11700158 0.04294488 ... 0.10562504 0.09248297 0.09810967]\n",
      " [0.11700158 1.         0.12487107 ... 0.19145551 0.1955733  0.19450505]\n",
      " [0.04294488 0.12487107 1.         ... 0.07905694 0.08075729 0.09637941]\n",
      " ...\n",
      " [0.10562504 0.19145551 0.07905694 ... 1.         0.52494153 0.19189755]\n",
      " [0.09248297 0.1955733  0.08075729 ... 0.52494153 1.         0.18449398]\n",
      " [0.09810967 0.19450505 0.09637941 ... 0.19189755 0.18449398 1.        ]]\n"
     ]
    }
   ],
   "source": [
    "#making a matric token of the CountVectorizer\n",
    "cs = cosine_similarity(cm)\n",
    "print(cs)"
   ]
  },
  {
   "cell_type": "code",
   "execution_count": 42,
   "id": "9c273c9a",
   "metadata": {},
   "outputs": [
    {
     "data": {
      "text/plain": [
       "(6616, 6616)"
      ]
     },
     "execution_count": 42,
     "metadata": {},
     "output_type": "execute_result"
    }
   ],
   "source": [
    "#printng the sahpe of the matric\n",
    "cs.shape"
   ]
  },
  {
   "cell_type": "code",
   "execution_count": 43,
   "id": "ac2df8ab",
   "metadata": {},
   "outputs": [],
   "source": [
    "#resetting the index of the dataframe\n",
    "movies = movies.reset_index(drop=True)"
   ]
  },
  {
   "cell_type": "code",
   "execution_count": 44,
   "id": "74582a15",
   "metadata": {},
   "outputs": [],
   "source": [
    "#craeting a new ID column and store the index values in it\n",
    "movies[\"ID\"] = movies.index"
   ]
  },
  {
   "cell_type": "code",
   "execution_count": 45,
   "id": "e7e2ffaf",
   "metadata": {},
   "outputs": [
    {
     "data": {
      "text/html": [
       "<div>\n",
       "<style scoped>\n",
       "    .dataframe tbody tr th:only-of-type {\n",
       "        vertical-align: middle;\n",
       "    }\n",
       "\n",
       "    .dataframe tbody tr th {\n",
       "        vertical-align: top;\n",
       "    }\n",
       "\n",
       "    .dataframe thead th {\n",
       "        text-align: right;\n",
       "    }\n",
       "</style>\n",
       "<table border=\"1\" class=\"dataframe\">\n",
       "  <thead>\n",
       "    <tr style=\"text-align: right;\">\n",
       "      <th></th>\n",
       "      <th>imdb_title_id</th>\n",
       "      <th>title</th>\n",
       "      <th>original_title</th>\n",
       "      <th>year</th>\n",
       "      <th>date_published</th>\n",
       "      <th>genre</th>\n",
       "      <th>duration</th>\n",
       "      <th>country</th>\n",
       "      <th>language</th>\n",
       "      <th>director</th>\n",
       "      <th>...</th>\n",
       "      <th>avg_vote</th>\n",
       "      <th>votes</th>\n",
       "      <th>budget</th>\n",
       "      <th>usa_gross_income</th>\n",
       "      <th>worlwide_gross_income</th>\n",
       "      <th>metascore</th>\n",
       "      <th>reviews_from_users</th>\n",
       "      <th>reviews_from_critics</th>\n",
       "      <th>important_feature</th>\n",
       "      <th>ID</th>\n",
       "    </tr>\n",
       "  </thead>\n",
       "  <tbody>\n",
       "    <tr>\n",
       "      <th>0</th>\n",
       "      <td>tt10059518</td>\n",
       "      <td>Il giorno sbagliato</td>\n",
       "      <td>Unhinged</td>\n",
       "      <td>2020</td>\n",
       "      <td>2020-09-24</td>\n",
       "      <td>Action, Thriller</td>\n",
       "      <td>90</td>\n",
       "      <td>USA</td>\n",
       "      <td>English</td>\n",
       "      <td>Derrick Borte</td>\n",
       "      <td>...</td>\n",
       "      <td>6.2</td>\n",
       "      <td>4720</td>\n",
       "      <td>$ 33000000</td>\n",
       "      <td>$ 9025406</td>\n",
       "      <td>$ 21025406</td>\n",
       "      <td>40.0</td>\n",
       "      <td>159.0</td>\n",
       "      <td>119.0</td>\n",
       "      <td>Il giorno sbagliato Action, Thriller Derrick B...</td>\n",
       "      <td>0</td>\n",
       "    </tr>\n",
       "    <tr>\n",
       "      <th>1</th>\n",
       "      <td>tt6348138</td>\n",
       "      <td>Mister Link</td>\n",
       "      <td>Missing Link</td>\n",
       "      <td>2019</td>\n",
       "      <td>2020-09-17</td>\n",
       "      <td>Animation, Adventure, Comedy</td>\n",
       "      <td>93</td>\n",
       "      <td>Canada, USA</td>\n",
       "      <td>English, Spanish, Tibetan</td>\n",
       "      <td>Chris Butler</td>\n",
       "      <td>...</td>\n",
       "      <td>6.7</td>\n",
       "      <td>20080</td>\n",
       "      <td>$ 100000000</td>\n",
       "      <td>$ 16649539</td>\n",
       "      <td>$ 26249469</td>\n",
       "      <td>68.0</td>\n",
       "      <td>173.0</td>\n",
       "      <td>152.0</td>\n",
       "      <td>Mister Link Animation, Adventure, Comedy Chris...</td>\n",
       "      <td>1</td>\n",
       "    </tr>\n",
       "    <tr>\n",
       "      <th>2</th>\n",
       "      <td>tt4682266</td>\n",
       "      <td>New Mutants</td>\n",
       "      <td>The New Mutants</td>\n",
       "      <td>2020</td>\n",
       "      <td>2020-09-02</td>\n",
       "      <td>Action, Horror, Sci-Fi</td>\n",
       "      <td>94</td>\n",
       "      <td>USA, Canada</td>\n",
       "      <td>English</td>\n",
       "      <td>Josh Boone</td>\n",
       "      <td>...</td>\n",
       "      <td>5.6</td>\n",
       "      <td>4621</td>\n",
       "      <td>$ 67000000</td>\n",
       "      <td>$ 7487310</td>\n",
       "      <td>$ 10387310</td>\n",
       "      <td>41.0</td>\n",
       "      <td>173.0</td>\n",
       "      <td>54.0</td>\n",
       "      <td>New Mutants Action, Horror, Sci-Fi Josh Boone ...</td>\n",
       "      <td>2</td>\n",
       "    </tr>\n",
       "  </tbody>\n",
       "</table>\n",
       "<p>3 rows × 24 columns</p>\n",
       "</div>"
      ],
      "text/plain": [
       "  imdb_title_id                title   original_title  year date_published  \\\n",
       "0    tt10059518  Il giorno sbagliato         Unhinged  2020     2020-09-24   \n",
       "1     tt6348138          Mister Link     Missing Link  2019     2020-09-17   \n",
       "2     tt4682266          New Mutants  The New Mutants  2020     2020-09-02   \n",
       "\n",
       "                          genre  duration      country  \\\n",
       "0              Action, Thriller        90          USA   \n",
       "1  Animation, Adventure, Comedy        93  Canada, USA   \n",
       "2        Action, Horror, Sci-Fi        94  USA, Canada   \n",
       "\n",
       "                    language       director  ... avg_vote  votes       budget  \\\n",
       "0                    English  Derrick Borte  ...      6.2   4720   $ 33000000   \n",
       "1  English, Spanish, Tibetan   Chris Butler  ...      6.7  20080  $ 100000000   \n",
       "2                    English     Josh Boone  ...      5.6   4621   $ 67000000   \n",
       "\n",
       "  usa_gross_income  worlwide_gross_income  metascore reviews_from_users  \\\n",
       "0        $ 9025406             $ 21025406       40.0              159.0   \n",
       "1       $ 16649539             $ 26249469       68.0              173.0   \n",
       "2        $ 7487310             $ 10387310       41.0              173.0   \n",
       "\n",
       "  reviews_from_critics                                  important_feature  ID  \n",
       "0                119.0  Il giorno sbagliato Action, Thriller Derrick B...   0  \n",
       "1                152.0  Mister Link Animation, Adventure, Comedy Chris...   1  \n",
       "2                 54.0  New Mutants Action, Horror, Sci-Fi Josh Boone ...   2  \n",
       "\n",
       "[3 rows x 24 columns]"
      ]
     },
     "execution_count": 45,
     "metadata": {},
     "output_type": "execute_result"
    }
   ],
   "source": [
    "#printing the first 3 rows of the dataframe\n",
    "movies.head(3)"
   ]
  },
  {
   "cell_type": "code",
   "execution_count": 46,
   "id": "a9ff0c96",
   "metadata": {},
   "outputs": [
    {
     "data": {
      "text/plain": [
       "4844"
      ]
     },
     "execution_count": 46,
     "metadata": {},
     "output_type": "execute_result"
    }
   ],
   "source": [
    "#getting the ID of a movie\n",
    "title = 'Fight Club'\n",
    "movie_id = movies[movies.title == title][\"ID\"].values[0]\n",
    "movie_id"
   ]
  },
  {
   "cell_type": "code",
   "execution_count": 47,
   "id": "c4f7e46d",
   "metadata": {},
   "outputs": [],
   "source": [
    "#making a dictionary of this movie and the degree of similarity with the other movies \n",
    "scores = list(enumerate(cs[movie_id]))"
   ]
  },
  {
   "cell_type": "code",
   "execution_count": 48,
   "id": "827404cd",
   "metadata": {},
   "outputs": [],
   "source": [
    "#storing the score as a list of tubles of movie ID and its score, and then removing the first value since it's the movie score \n",
    "#with itself which will always be 1\n",
    "sorted_scores = sorted(scores, key = lambda x:x[1], reverse = True)\n",
    "sorted_scores = sorted_scores[1:]"
   ]
  },
  {
   "cell_type": "code",
   "execution_count": 49,
   "id": "8e01e104",
   "metadata": {},
   "outputs": [
    {
     "data": {
      "text/plain": [
       "[(5154, 0.21341639745917707),\n",
       " (986, 0.2056531864151556),\n",
       " (1590, 0.19978980551207964),\n",
       " (6234, 0.1866272256725398),\n",
       " (5749, 0.1818335167131459),\n",
       " (6157, 0.17746819660511284),\n",
       " (3748, 0.17734310717834892),\n",
       " (3216, 0.17697315028813224),\n",
       " (3189, 0.1757398728916594),\n",
       " (4960, 0.17453202440084273)]"
      ]
     },
     "execution_count": 49,
     "metadata": {},
     "output_type": "execute_result"
    }
   ],
   "source": [
    "sorted_scores[:10]"
   ]
  },
  {
   "cell_type": "code",
   "execution_count": 50,
   "id": "53b60c41",
   "metadata": {},
   "outputs": [
    {
     "name": "stdout",
     "output_type": "stream",
     "text": [
      "The 10 most recommended movies to Fight Club are:\n",
      "\n",
      "1- L'ombra del diavolo\n",
      "2- Fury\n",
      "3- Cloud Atlas\n",
      "4- Rambo\n",
      "5- L'ultima battuta\n",
      "6- Top Secret!\n",
      "7- A Dirty Shame\n",
      "8- Scoop\n",
      "9- Uomini & donne - Tutti dovrebbero venire... almeno una volta!\n",
      "10- Il prigioniero\n"
     ]
    }
   ],
   "source": [
    "#Testing the model by making a for loop to return the most similar 10 movies to the ID we passed\n",
    "j = 0\n",
    "print(\"The 10 most recommended movies to\",title,\"are:\\n\")\n",
    "for item in sorted_scores:\n",
    "    movie_title = movies[movies[\"ID\"] == item[0]]['title'].values[0]\n",
    "    print(str(j+1) + \"- \"+ movie_title)\n",
    "    j += 1\n",
    "    if j>9:\n",
    "        break"
   ]
  },
  {
   "cell_type": "code",
   "execution_count": 51,
   "id": "86a62cb1",
   "metadata": {},
   "outputs": [],
   "source": [
    "#Making a function that recommend movies\n",
    "def Recommend(movie):\n",
    "    movie_id = movies[movies.title == movie][\"ID\"].values[0]\n",
    "    scores = list(enumerate(cs[movie_id]))\n",
    "    sorted_scores = sorted(scores, key = lambda x:x[1], reverse = True)\n",
    "    sorted_scores = sorted_scores[1:]\n",
    "    j = 0\n",
    "    print(\"The 10 most recommended movies to\",movie,\"are:\\n\")\n",
    "    for item in sorted_scores:\n",
    "        movie_title = movies[movies[\"ID\"] == item[0]]['title'].values[0]\n",
    "        print(str(j+1) + \"- \"+ movie_title)\n",
    "        j += 1\n",
    "        if j>9:\n",
    "            break"
   ]
  },
  {
   "cell_type": "code",
   "execution_count": 52,
   "id": "d06ff710",
   "metadata": {},
   "outputs": [],
   "source": [
    "#making a function \n",
    "def check(title_):\n",
    "    lower = movies.title.str.lower()\n",
    "    return movies[lower.str.contains(title_)].title.values[0]\n",
    "    "
   ]
  },
  {
   "cell_type": "code",
   "execution_count": 57,
   "id": "9d0cf52f",
   "metadata": {},
   "outputs": [
    {
     "name": "stdout",
     "output_type": "stream",
     "text": [
      "The 10 most recommended movies to The Amazing Spider-Man are:\n",
      "\n",
      "1- The Amazing Spider-Man 2 - Il potere di Electro\n",
      "2- Sinbad - La leggenda dei sette mari\n",
      "3- Spider-Man\n",
      "4- Le crociate - Kingdom of Heaven\n",
      "5- Shooter\n",
      "6- Resident Evil: Apocalypse\n",
      "7- Flash Gordon\n",
      "8- Spider-Man: Homecoming\n",
      "9- The Last Stand - L'ultima sfida\n",
      "10- Victor: La storia segreta del dottor Frankenstein\n"
     ]
    }
   ],
   "source": [
    "Recommend('The Amazing Spider-Man')"
   ]
  },
  {
   "cell_type": "code",
   "execution_count": null,
   "id": "c4290564",
   "metadata": {},
   "outputs": [],
   "source": []
  }
 ],
 "metadata": {
  "kernelspec": {
   "display_name": "Python 3",
   "language": "python",
   "name": "python3"
  },
  "language_info": {
   "codemirror_mode": {
    "name": "ipython",
    "version": 3
   },
   "file_extension": ".py",
   "mimetype": "text/x-python",
   "name": "python",
   "nbconvert_exporter": "python",
   "pygments_lexer": "ipython3",
   "version": "3.8.8"
  }
 },
 "nbformat": 4,
 "nbformat_minor": 5
}
