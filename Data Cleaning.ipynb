{
 "cells": [
  {
   "cell_type": "code",
   "execution_count": 1,
   "id": "bd641a53",
   "metadata": {},
   "outputs": [],
   "source": [
    "#importing pandas for data cleaning\n",
    "import pandas as pd"
   ]
  },
  {
   "cell_type": "code",
   "execution_count": 2,
   "id": "39be5894",
   "metadata": {},
   "outputs": [
    {
     "name": "stderr",
     "output_type": "stream",
     "text": [
      "C:\\Users\\Youssef Atef\\anaconda3\\lib\\site-packages\\IPython\\core\\interactiveshell.py:3165: DtypeWarning: Columns (3) have mixed types.Specify dtype option on import or set low_memory=False.\n",
      "  has_raised = await self.run_ast_nodes(code_ast.body, cell_name,\n"
     ]
    }
   ],
   "source": [
    "#Loading the \"movies\" csv file and store it in a variable called \"df\"\n",
    "df = pd.read_csv(\"movies.csv\")"
   ]
  },
  {
   "cell_type": "code",
   "execution_count": 3,
   "id": "90dabb08",
   "metadata": {},
   "outputs": [
    {
     "data": {
      "text/plain": [
       "(85855, 22)"
      ]
     },
     "execution_count": 3,
     "metadata": {},
     "output_type": "execute_result"
    }
   ],
   "source": [
    "#Checking for the sahpe of the dataframe\n",
    "df.shape"
   ]
  },
  {
   "cell_type": "code",
   "execution_count": 4,
   "id": "babf8c6d",
   "metadata": {},
   "outputs": [
    {
     "data": {
      "text/plain": [
       "Index(['imdb_title_id', 'title', 'original_title', 'year', 'date_published',\n",
       "       'genre', 'duration', 'country', 'language', 'director', 'writer',\n",
       "       'production_company', 'actors', 'description', 'avg_vote', 'votes',\n",
       "       'budget', 'usa_gross_income', 'worlwide_gross_income', 'metascore',\n",
       "       'reviews_from_users', 'reviews_from_critics'],\n",
       "      dtype='object')"
      ]
     },
     "execution_count": 4,
     "metadata": {},
     "output_type": "execute_result"
    }
   ],
   "source": [
    "#printing the columns of the dataframe\n",
    "df.columns"
   ]
  },
  {
   "cell_type": "code",
   "execution_count": 5,
   "id": "a3e3192a",
   "metadata": {},
   "outputs": [
    {
     "data": {
      "text/html": [
       "<div>\n",
       "<style scoped>\n",
       "    .dataframe tbody tr th:only-of-type {\n",
       "        vertical-align: middle;\n",
       "    }\n",
       "\n",
       "    .dataframe tbody tr th {\n",
       "        vertical-align: top;\n",
       "    }\n",
       "\n",
       "    .dataframe thead th {\n",
       "        text-align: right;\n",
       "    }\n",
       "</style>\n",
       "<table border=\"1\" class=\"dataframe\">\n",
       "  <thead>\n",
       "    <tr style=\"text-align: right;\">\n",
       "      <th></th>\n",
       "      <th>imdb_title_id</th>\n",
       "      <th>title</th>\n",
       "      <th>original_title</th>\n",
       "      <th>year</th>\n",
       "      <th>date_published</th>\n",
       "      <th>genre</th>\n",
       "      <th>duration</th>\n",
       "      <th>country</th>\n",
       "      <th>language</th>\n",
       "      <th>director</th>\n",
       "      <th>...</th>\n",
       "      <th>actors</th>\n",
       "      <th>description</th>\n",
       "      <th>avg_vote</th>\n",
       "      <th>votes</th>\n",
       "      <th>budget</th>\n",
       "      <th>usa_gross_income</th>\n",
       "      <th>worlwide_gross_income</th>\n",
       "      <th>metascore</th>\n",
       "      <th>reviews_from_users</th>\n",
       "      <th>reviews_from_critics</th>\n",
       "    </tr>\n",
       "  </thead>\n",
       "  <tbody>\n",
       "    <tr>\n",
       "      <th>0</th>\n",
       "      <td>tt0000009</td>\n",
       "      <td>Miss Jerry</td>\n",
       "      <td>Miss Jerry</td>\n",
       "      <td>1894</td>\n",
       "      <td>1894-10-09</td>\n",
       "      <td>Romance</td>\n",
       "      <td>45</td>\n",
       "      <td>USA</td>\n",
       "      <td>None</td>\n",
       "      <td>Alexander Black</td>\n",
       "      <td>...</td>\n",
       "      <td>Blanche Bayliss, William Courtenay, Chauncey D...</td>\n",
       "      <td>The adventures of a female reporter in the 1890s.</td>\n",
       "      <td>5.9</td>\n",
       "      <td>154</td>\n",
       "      <td>NaN</td>\n",
       "      <td>NaN</td>\n",
       "      <td>NaN</td>\n",
       "      <td>NaN</td>\n",
       "      <td>1.0</td>\n",
       "      <td>2.0</td>\n",
       "    </tr>\n",
       "    <tr>\n",
       "      <th>1</th>\n",
       "      <td>tt0000574</td>\n",
       "      <td>The Story of the Kelly Gang</td>\n",
       "      <td>The Story of the Kelly Gang</td>\n",
       "      <td>1906</td>\n",
       "      <td>1906-12-26</td>\n",
       "      <td>Biography, Crime, Drama</td>\n",
       "      <td>70</td>\n",
       "      <td>Australia</td>\n",
       "      <td>None</td>\n",
       "      <td>Charles Tait</td>\n",
       "      <td>...</td>\n",
       "      <td>Elizabeth Tait, John Tait, Norman Campbell, Be...</td>\n",
       "      <td>True story of notorious Australian outlaw Ned ...</td>\n",
       "      <td>6.1</td>\n",
       "      <td>589</td>\n",
       "      <td>$ 2250</td>\n",
       "      <td>NaN</td>\n",
       "      <td>NaN</td>\n",
       "      <td>NaN</td>\n",
       "      <td>7.0</td>\n",
       "      <td>7.0</td>\n",
       "    </tr>\n",
       "    <tr>\n",
       "      <th>2</th>\n",
       "      <td>tt0001892</td>\n",
       "      <td>Den sorte drøm</td>\n",
       "      <td>Den sorte drøm</td>\n",
       "      <td>1911</td>\n",
       "      <td>1911-08-19</td>\n",
       "      <td>Drama</td>\n",
       "      <td>53</td>\n",
       "      <td>Germany, Denmark</td>\n",
       "      <td>NaN</td>\n",
       "      <td>Urban Gad</td>\n",
       "      <td>...</td>\n",
       "      <td>Asta Nielsen, Valdemar Psilander, Gunnar Helse...</td>\n",
       "      <td>Two men of high rank are both wooing the beaut...</td>\n",
       "      <td>5.8</td>\n",
       "      <td>188</td>\n",
       "      <td>NaN</td>\n",
       "      <td>NaN</td>\n",
       "      <td>NaN</td>\n",
       "      <td>NaN</td>\n",
       "      <td>5.0</td>\n",
       "      <td>2.0</td>\n",
       "    </tr>\n",
       "  </tbody>\n",
       "</table>\n",
       "<p>3 rows × 22 columns</p>\n",
       "</div>"
      ],
      "text/plain": [
       "  imdb_title_id                        title               original_title  \\\n",
       "0     tt0000009                   Miss Jerry                   Miss Jerry   \n",
       "1     tt0000574  The Story of the Kelly Gang  The Story of the Kelly Gang   \n",
       "2     tt0001892               Den sorte drøm               Den sorte drøm   \n",
       "\n",
       "   year date_published                    genre  duration           country  \\\n",
       "0  1894     1894-10-09                  Romance        45               USA   \n",
       "1  1906     1906-12-26  Biography, Crime, Drama        70         Australia   \n",
       "2  1911     1911-08-19                    Drama        53  Germany, Denmark   \n",
       "\n",
       "  language         director  ...  \\\n",
       "0     None  Alexander Black  ...   \n",
       "1     None     Charles Tait  ...   \n",
       "2      NaN        Urban Gad  ...   \n",
       "\n",
       "                                              actors  \\\n",
       "0  Blanche Bayliss, William Courtenay, Chauncey D...   \n",
       "1  Elizabeth Tait, John Tait, Norman Campbell, Be...   \n",
       "2  Asta Nielsen, Valdemar Psilander, Gunnar Helse...   \n",
       "\n",
       "                                         description avg_vote votes  budget  \\\n",
       "0  The adventures of a female reporter in the 1890s.      5.9   154     NaN   \n",
       "1  True story of notorious Australian outlaw Ned ...      6.1   589  $ 2250   \n",
       "2  Two men of high rank are both wooing the beaut...      5.8   188     NaN   \n",
       "\n",
       "   usa_gross_income worlwide_gross_income metascore reviews_from_users  \\\n",
       "0               NaN                   NaN       NaN                1.0   \n",
       "1               NaN                   NaN       NaN                7.0   \n",
       "2               NaN                   NaN       NaN                5.0   \n",
       "\n",
       "   reviews_from_critics  \n",
       "0                   2.0  \n",
       "1                   7.0  \n",
       "2                   2.0  \n",
       "\n",
       "[3 rows x 22 columns]"
      ]
     },
     "execution_count": 5,
     "metadata": {},
     "output_type": "execute_result"
    }
   ],
   "source": [
    "#printing the first 3 rows of the dataframe\n",
    "df.head(3)"
   ]
  },
  {
   "cell_type": "code",
   "execution_count": 6,
   "id": "3a2d7964",
   "metadata": {},
   "outputs": [
    {
     "data": {
      "text/plain": [
       "imdb_title_id            85855\n",
       "title                    85855\n",
       "original_title           85855\n",
       "year                     85855\n",
       "date_published           85855\n",
       "genre                    85855\n",
       "duration                 85855\n",
       "country                  85791\n",
       "language                 85022\n",
       "director                 85768\n",
       "writer                   84283\n",
       "production_company       81400\n",
       "actors                   85786\n",
       "description              83740\n",
       "avg_vote                 85855\n",
       "votes                    85855\n",
       "budget                   23710\n",
       "usa_gross_income         15326\n",
       "worlwide_gross_income    31016\n",
       "metascore                13305\n",
       "reviews_from_users       78258\n",
       "reviews_from_critics     74058\n",
       "dtype: int64"
      ]
     },
     "execution_count": 6,
     "metadata": {},
     "output_type": "execute_result"
    }
   ],
   "source": [
    "#Checking how many null values in each column\n",
    "df.count()"
   ]
  },
  {
   "cell_type": "code",
   "execution_count": 7,
   "id": "839e2bce",
   "metadata": {},
   "outputs": [],
   "source": [
    "#Dropping the rows with null values in the following columns as they will be the most important to our analysis\n",
    "df = df.dropna(subset = [\"budget\",\"usa_gross_income\",\"worlwide_gross_income\"])"
   ]
  },
  {
   "cell_type": "code",
   "execution_count": 8,
   "id": "93c163ca",
   "metadata": {},
   "outputs": [
    {
     "data": {
      "text/plain": [
       "imdb_title_id            8126\n",
       "title                    8126\n",
       "original_title           8126\n",
       "year                     8126\n",
       "date_published           8126\n",
       "genre                    8126\n",
       "duration                 8126\n",
       "country                  8125\n",
       "language                 8118\n",
       "director                 8125\n",
       "writer                   8121\n",
       "production_company       8089\n",
       "actors                   8125\n",
       "description              8109\n",
       "avg_vote                 8126\n",
       "votes                    8126\n",
       "budget                   8126\n",
       "usa_gross_income         8126\n",
       "worlwide_gross_income    8126\n",
       "metascore                6648\n",
       "reviews_from_users       8112\n",
       "reviews_from_critics     8101\n",
       "dtype: int64"
      ]
     },
     "execution_count": 8,
     "metadata": {},
     "output_type": "execute_result"
    }
   ],
   "source": [
    "#Checking for the non null values for each column\n",
    "df.count()"
   ]
  },
  {
   "cell_type": "code",
   "execution_count": 9,
   "id": "348f00f6",
   "metadata": {},
   "outputs": [
    {
     "data": {
      "text/plain": [
       "(8126, 22)"
      ]
     },
     "execution_count": 9,
     "metadata": {},
     "output_type": "execute_result"
    }
   ],
   "source": [
    "#checking for the shape of the dataframe\n",
    "df.shape"
   ]
  },
  {
   "cell_type": "code",
   "execution_count": 10,
   "id": "54a96300",
   "metadata": {},
   "outputs": [],
   "source": [
    "pd.options.display.max_columns = 22"
   ]
  },
  {
   "cell_type": "code",
   "execution_count": 11,
   "id": "e493c8d3",
   "metadata": {},
   "outputs": [
    {
     "data": {
      "text/html": [
       "<div>\n",
       "<style scoped>\n",
       "    .dataframe tbody tr th:only-of-type {\n",
       "        vertical-align: middle;\n",
       "    }\n",
       "\n",
       "    .dataframe tbody tr th {\n",
       "        vertical-align: top;\n",
       "    }\n",
       "\n",
       "    .dataframe thead th {\n",
       "        text-align: right;\n",
       "    }\n",
       "</style>\n",
       "<table border=\"1\" class=\"dataframe\">\n",
       "  <thead>\n",
       "    <tr style=\"text-align: right;\">\n",
       "      <th></th>\n",
       "      <th>imdb_title_id</th>\n",
       "      <th>title</th>\n",
       "      <th>original_title</th>\n",
       "      <th>year</th>\n",
       "      <th>date_published</th>\n",
       "      <th>genre</th>\n",
       "      <th>duration</th>\n",
       "      <th>country</th>\n",
       "      <th>language</th>\n",
       "      <th>director</th>\n",
       "      <th>writer</th>\n",
       "      <th>production_company</th>\n",
       "      <th>actors</th>\n",
       "      <th>description</th>\n",
       "      <th>avg_vote</th>\n",
       "      <th>votes</th>\n",
       "      <th>budget</th>\n",
       "      <th>usa_gross_income</th>\n",
       "      <th>worlwide_gross_income</th>\n",
       "      <th>metascore</th>\n",
       "      <th>reviews_from_users</th>\n",
       "      <th>reviews_from_critics</th>\n",
       "    </tr>\n",
       "  </thead>\n",
       "  <tbody>\n",
       "    <tr>\n",
       "      <th>165</th>\n",
       "      <td>tt0010323</td>\n",
       "      <td>Il gabinetto del dottor Caligari</td>\n",
       "      <td>Das Cabinet des Dr. Caligari</td>\n",
       "      <td>1920</td>\n",
       "      <td>1920-02-27</td>\n",
       "      <td>Fantasy, Horror, Mystery</td>\n",
       "      <td>76</td>\n",
       "      <td>Germany</td>\n",
       "      <td>German</td>\n",
       "      <td>Robert Wiene</td>\n",
       "      <td>Carl Mayer, Hans Janowitz</td>\n",
       "      <td>Decla-Bioscop AG</td>\n",
       "      <td>Werner Krauss, Conrad Veidt, Friedrich Feher, ...</td>\n",
       "      <td>Hypnotist Dr. Caligari uses a somnambulist, Ce...</td>\n",
       "      <td>8.1</td>\n",
       "      <td>55601</td>\n",
       "      <td>$ 18000</td>\n",
       "      <td>$ 8811</td>\n",
       "      <td>$ 8811</td>\n",
       "      <td>NaN</td>\n",
       "      <td>237.0</td>\n",
       "      <td>160.0</td>\n",
       "    </tr>\n",
       "    <tr>\n",
       "      <th>245</th>\n",
       "      <td>tt0012190</td>\n",
       "      <td>I quattro cavalieri dell'Apocalisse</td>\n",
       "      <td>The Four Horsemen of the Apocalypse</td>\n",
       "      <td>1921</td>\n",
       "      <td>1923-04-16</td>\n",
       "      <td>Drama, Romance, War</td>\n",
       "      <td>150</td>\n",
       "      <td>USA</td>\n",
       "      <td>None</td>\n",
       "      <td>Rex Ingram</td>\n",
       "      <td>Vicente Blasco Ibáñez, June Mathis</td>\n",
       "      <td>Metro Pictures Corporation</td>\n",
       "      <td>Pomeroy Cannon, Josef Swickard, Bridgetta Clar...</td>\n",
       "      <td>An extended family split up in France and Germ...</td>\n",
       "      <td>7.2</td>\n",
       "      <td>3058</td>\n",
       "      <td>$ 800000</td>\n",
       "      <td>$ 9183673</td>\n",
       "      <td>$ 9183673</td>\n",
       "      <td>NaN</td>\n",
       "      <td>45.0</td>\n",
       "      <td>16.0</td>\n",
       "    </tr>\n",
       "    <tr>\n",
       "      <th>506</th>\n",
       "      <td>tt0017136</td>\n",
       "      <td>Metropolis</td>\n",
       "      <td>Metropolis</td>\n",
       "      <td>1927</td>\n",
       "      <td>1928-10-01</td>\n",
       "      <td>Drama, Sci-Fi</td>\n",
       "      <td>153</td>\n",
       "      <td>Germany</td>\n",
       "      <td>German</td>\n",
       "      <td>Fritz Lang</td>\n",
       "      <td>Thea von Harbou, Thea von Harbou</td>\n",
       "      <td>Universum Film (UFA)</td>\n",
       "      <td>Alfred Abel, Gustav Fröhlich, Rudolf Klein-Rog...</td>\n",
       "      <td>In a futuristic city sharply divided between t...</td>\n",
       "      <td>8.3</td>\n",
       "      <td>156076</td>\n",
       "      <td>DEM 6000000</td>\n",
       "      <td>$ 1236166</td>\n",
       "      <td>$ 1349711</td>\n",
       "      <td>98.0</td>\n",
       "      <td>495.0</td>\n",
       "      <td>208.0</td>\n",
       "    </tr>\n",
       "  </tbody>\n",
       "</table>\n",
       "</div>"
      ],
      "text/plain": [
       "    imdb_title_id                                title  \\\n",
       "165     tt0010323     Il gabinetto del dottor Caligari   \n",
       "245     tt0012190  I quattro cavalieri dell'Apocalisse   \n",
       "506     tt0017136                           Metropolis   \n",
       "\n",
       "                          original_title  year date_published  \\\n",
       "165         Das Cabinet des Dr. Caligari  1920     1920-02-27   \n",
       "245  The Four Horsemen of the Apocalypse  1921     1923-04-16   \n",
       "506                           Metropolis  1927     1928-10-01   \n",
       "\n",
       "                        genre  duration  country language      director  \\\n",
       "165  Fantasy, Horror, Mystery        76  Germany   German  Robert Wiene   \n",
       "245       Drama, Romance, War       150      USA     None    Rex Ingram   \n",
       "506             Drama, Sci-Fi       153  Germany   German    Fritz Lang   \n",
       "\n",
       "                                 writer          production_company  \\\n",
       "165           Carl Mayer, Hans Janowitz            Decla-Bioscop AG   \n",
       "245  Vicente Blasco Ibáñez, June Mathis  Metro Pictures Corporation   \n",
       "506    Thea von Harbou, Thea von Harbou        Universum Film (UFA)   \n",
       "\n",
       "                                                actors  \\\n",
       "165  Werner Krauss, Conrad Veidt, Friedrich Feher, ...   \n",
       "245  Pomeroy Cannon, Josef Swickard, Bridgetta Clar...   \n",
       "506  Alfred Abel, Gustav Fröhlich, Rudolf Klein-Rog...   \n",
       "\n",
       "                                           description  avg_vote   votes  \\\n",
       "165  Hypnotist Dr. Caligari uses a somnambulist, Ce...       8.1   55601   \n",
       "245  An extended family split up in France and Germ...       7.2    3058   \n",
       "506  In a futuristic city sharply divided between t...       8.3  156076   \n",
       "\n",
       "          budget usa_gross_income worlwide_gross_income  metascore  \\\n",
       "165      $ 18000           $ 8811                $ 8811        NaN   \n",
       "245     $ 800000        $ 9183673             $ 9183673        NaN   \n",
       "506  DEM 6000000        $ 1236166             $ 1349711       98.0   \n",
       "\n",
       "     reviews_from_users  reviews_from_critics  \n",
       "165               237.0                 160.0  \n",
       "245                45.0                  16.0  \n",
       "506               495.0                 208.0  "
      ]
     },
     "execution_count": 11,
     "metadata": {},
     "output_type": "execute_result"
    }
   ],
   "source": [
    "#Printing the first 3 rows of the dataframe\n",
    "df.head(3)"
   ]
  },
  {
   "cell_type": "code",
   "execution_count": 12,
   "id": "8bb957bc",
   "metadata": {},
   "outputs": [
    {
     "data": {
      "text/plain": [
       "$ 5100000        4\n",
       "$ 40000          4\n",
       "GBP 3500000      4\n",
       "INR 400000000    4\n",
       "$ 82000000       4\n",
       "INR 120000000    4\n",
       "EUR 15000000     4\n",
       "$ 102000000      4\n",
       "$ 15000          4\n",
       "$ 76000000       4\n",
       "$ 79000000       4\n",
       "$ 950000         4\n",
       "$ 125000         4\n",
       "$ 180000         4\n",
       "EUR 3600000      3\n",
       "EUR 1800000      3\n",
       "$ 3400000        3\n",
       "$ 7300000        3\n",
       "$ 70000          3\n",
       "GBP 5000000      3\n",
       "Name: budget, dtype: int64"
      ]
     },
     "execution_count": 12,
     "metadata": {},
     "output_type": "execute_result"
    }
   ],
   "source": [
    "#Checking if there is a special character in the columns related to money\n",
    "df.budget.value_counts()[200:220]"
   ]
  },
  {
   "cell_type": "code",
   "execution_count": 13,
   "id": "4820f411",
   "metadata": {},
   "outputs": [],
   "source": [
    "#This function take one cell as a paramter and check what currency code in this cell and replace it with empty string,\n",
    "#and then multiply the number with a specific value to convert it into dollars\n",
    "#I got the values of the currencies using this website --> https://www.xe.com/\n",
    "def CurrencyConverter(x):\n",
    "    if \"$\" in x:\n",
    "        return x.replace(\"$\", \"\")\n",
    "    if \"DEM\" in x:\n",
    "        return int(x.replace(\"DEM\",\"\"))*0.6\n",
    "    if \"CAD\" in x:\n",
    "        return int(x.replace(\"CAD\",\"\"))*0.78\n",
    "    if \"EUR\" in x:\n",
    "        return int(x.replace(\"EUR\",\"\"))*1.18\n",
    "    if \"GBP\" in x:\n",
    "        return int(x.replace(\"GBP\",\"\"))*1.38\n",
    "    if \"INR\" in x:\n",
    "        return int(x.replace(\"INR\",\"\"))*0.01\n",
    "    if \"AUD\" in x:\n",
    "        return int(x.replace(\"AUD\",\"\"))*0.73\n",
    "    if \"CHF\" in x:\n",
    "        return int(x.replace(\"CHF\",\"\"))*0.74\n",
    "    if \"JPY\" in x:\n",
    "        return int(x.replace(\"JPY\",\"\"))*0.009\n",
    "    if \"CNY\" in x:\n",
    "        return int(x.replace(\"CNY\",\"\"))*0.15\n",
    "    if \"NZD\" in x:\n",
    "        return int(x.replace(\"NZD\",\"\"))*0.15\n",
    "    if \"THB\" in x:\n",
    "        return int(x.replace(\"THB\",\"\"))*0.03\n",
    "    if \"HUF\" in x:\n",
    "        return int(x.replace(\"HUF\",\"\"))*0.0033\n",
    "    if \"HKD\" in x:\n",
    "        return int(x.replace(\"HKD\",\"\"))*0.12\n",
    "    if \"MXN\" in x:\n",
    "        return int(x.replace(\"MXN\",\"\"))*0.05\n",
    "    if \"ZAR\" in x:\n",
    "        return int(x.replace(\"ZAR\",\"\"))*0.07\n",
    "    if \"SEK\" in x:\n",
    "        return int(x.replace(\"SEK\",\"\"))*0.11\n",
    "    if \"KRW\" in x:\n",
    "        return int(x.replace(\"KRW\",\"\"))*0.00085\n",
    "    if \"DKK\" in x:\n",
    "        return int(x.replace(\"DKK\",\"\"))*0.15\n",
    "    if \"FRF\" in x:\n",
    "        return int(x.replace(\"FRF\",\"\"))*0.17\n",
    "    if \"SGD\" in x:\n",
    "        return int(x.replace(\"SGD\",\"\"))*0.74\n",
    "    if \"ITL\" in x:\n",
    "        return int(x.replace(\"ITL\",\"\"))*0.0006\n",
    "    if \"RUR\" in x:\n",
    "        return int(x.replace(\"RUR\",\"\"))*0.01\n",
    "    if \"IEP\" in x:\n",
    "        return int(x.replace(\"IEP\",\"\"))*1.49\n",
    "    if \"NOK\" in x:\n",
    "        return int(x.replace(\"NOK\",\"\"))*0.11\n",
    "    if \"BEF\" in x:\n",
    "        return int(x.replace(\"BEF\",\"\"))*0.02\n",
    "    if \"ISK\" in x:\n",
    "        return int(x.replace(\"ISK\",\"\"))*0.0078\n",
    "    if \"ESP\" in x:\n",
    "        return int(x.replace(\"ESP\",\"\"))*0.007\n",
    "    if \"ATS\" in x:\n",
    "        return int(x.replace(\"ATS\",\"\"))*0.085\n",
    "    if \"BRL\" in x:\n",
    "        return int(x.replace(\"BRL\",\"\"))*0.19\n",
    "    if \"CZK\" in x:\n",
    "        return int(x.replace(\"CZK\",\"\"))*0.04\n",
    "    if \"PLN\" in x:\n",
    "        return int(x.replace(\"PLN\",\"\"))*0.25\n",
    "    if \"CLP\" in x:\n",
    "        return int(x.replace(\"CLP\",\"\"))*0.001\n",
    "    if \"ARS\" in x:\n",
    "        return int(x.replace(\"ARS\",\"\"))*0.01\n",
    "    if \"ILS\" in x:\n",
    "        return int(x.replace(\"ILS\",\"\"))*0\n",
    "    if \"FIM\" in x:\n",
    "        return int(x.replace(\"FIM\",\"\"))*0.19\n",
    "    if \"VEB\" in x:\n",
    "        return int(x.replace(\"VEB\",\"\"))*0.000000000000002494898\n",
    "    if \"NGN\" in x:\n",
    "        return int(x.replace(\"NGN\",\"\"))*0.002\n",
    "    if \"DOP\" in x:\n",
    "        return int(x.replace(\"DOP\",\"\"))*0.017\n",
    "    return int(x)"
   ]
  },
  {
   "cell_type": "code",
   "execution_count": 14,
   "id": "59d96234",
   "metadata": {},
   "outputs": [],
   "source": [
    "#Creating a new columns and applying the currency converter function to each cell to make it suitable to use for our analysis\n",
    "df[\"budget_\"] = df.budget.apply(lambda x:CurrencyConverter(x))\n",
    "df[\"usa_gross_income_\"] = df.usa_gross_income.apply(lambda x:CurrencyConverter(x))\n",
    "df[\"worlwide_gross_income_\"] = df.worlwide_gross_income.apply(lambda x:CurrencyConverter(x))"
   ]
  },
  {
   "cell_type": "code",
   "execution_count": 15,
   "id": "7d5679e7",
   "metadata": {},
   "outputs": [],
   "source": [
    "#Creating a usa and world wide revenue columns by subtracting the income from the budget\n",
    "df[\"usa_revenue\"] = df.apply(lambda x: int(x.usa_gross_income_) - int(x.budget_), axis = 1)\n",
    "df[\"worlwide_revenue\"] = df.apply(lambda x: int(x.worlwide_gross_income_) - int(x.budget_), axis = 1)"
   ]
  },
  {
   "cell_type": "code",
   "execution_count": 16,
   "id": "e4198ba0",
   "metadata": {},
   "outputs": [],
   "source": [
    "#Some columns has many values in it, I thought of spliting these columns by delimiter but there will be many columns we won't need\n",
    "#so I decided to only take the main value of each of these columns\n",
    "df[\"Main Actor\"] = df.actors.apply(lambda x:str(x).split(\",\")[0])\n",
    "df[\"Main Director\"] = df.director.apply(lambda x:str(x).split(\",\")[0])\n",
    "df[\"Main Writer\"] = df.writer.apply(lambda x:str(x).split(\",\")[0])\n",
    "df[\"Main genre\"] = df.genre.apply(lambda x:str(x).split(\",\")[0])\n",
    "df[\"Main Language\"] = df.language.apply(lambda x:str(x).split(\",\")[0])\n",
    "df[\"Main Country\"] = df.country.apply(lambda x:str(x).split(\",\")[0])"
   ]
  },
  {
   "cell_type": "code",
   "execution_count": 17,
   "id": "22ecb342",
   "metadata": {},
   "outputs": [
    {
     "data": {
      "text/plain": [
       "Index(['imdb_title_id', 'title', 'original_title', 'year', 'date_published',\n",
       "       'genre', 'duration', 'country', 'language', 'director', 'writer',\n",
       "       'production_company', 'actors', 'description', 'avg_vote', 'votes',\n",
       "       'budget', 'usa_gross_income', 'worlwide_gross_income', 'metascore',\n",
       "       'reviews_from_users', 'reviews_from_critics', 'budget_',\n",
       "       'usa_gross_income_', 'worlwide_gross_income_', 'usa_revenue',\n",
       "       'worlwide_revenue', 'Main Actor', 'Main Director', 'Main Writer',\n",
       "       'Main genre', 'Main Language', 'Main Country'],\n",
       "      dtype='object')"
      ]
     },
     "execution_count": 17,
     "metadata": {},
     "output_type": "execute_result"
    }
   ],
   "source": [
    "#Printing the dataframe columns\n",
    "df.columns"
   ]
  },
  {
   "cell_type": "code",
   "execution_count": 18,
   "id": "2cd89029",
   "metadata": {},
   "outputs": [
    {
     "data": {
      "text/plain": [
       "dtype('O')"
      ]
     },
     "execution_count": 18,
     "metadata": {},
     "output_type": "execute_result"
    }
   ],
   "source": [
    "#Some columns with numerical values does not have an int/float data type\n",
    "df[\"year\"].dtype"
   ]
  },
  {
   "cell_type": "code",
   "execution_count": 19,
   "id": "b981148d",
   "metadata": {},
   "outputs": [],
   "source": [
    "#So I converted the following columns to an int/float data types\n",
    "df[\"budget_\"] = df[\"budget_\"].astype(float)\n",
    "df[\"year\"] = df[\"year\"].astype(int)\n",
    "df[\"usa_gross_income_\"] = df['usa_gross_income_'].astype(float)\n",
    "df['worlwide_gross_income_'] = df['worlwide_gross_income_'].astype(float)"
   ]
  },
  {
   "cell_type": "code",
   "execution_count": 20,
   "id": "9ad6c9a5",
   "metadata": {},
   "outputs": [
    {
     "data": {
      "text/plain": [
       "dtype('int32')"
      ]
     },
     "execution_count": 20,
     "metadata": {},
     "output_type": "execute_result"
    }
   ],
   "source": [
    "#Checking for the datatype of the \"year\" column\n",
    "df[\"year\"].dtype"
   ]
  },
  {
   "cell_type": "code",
   "execution_count": 21,
   "id": "8b60373b",
   "metadata": {},
   "outputs": [],
   "source": [
    "#Creating an index column starting from one to the length of the dataframe\n",
    "df['movie_ID'] = range(1, len(df) + 1)"
   ]
  },
  {
   "cell_type": "code",
   "execution_count": 22,
   "id": "300017b9",
   "metadata": {},
   "outputs": [],
   "source": [
    "#Slicing the dataframe by the columns we will need for the analysis and storing it in a new variable\n",
    "df_ = df[['movie_ID','title', 'year', 'date_published',\n",
    "       'genre','Main genre', 'duration', 'country', 'Main Country','language','Main Language', 'director','Main Director', 'writer','Main Writer',\n",
    "       'production_company', 'actors','Main Actor', 'description', 'avg_vote', 'votes', 'metascore',\n",
    "       'reviews_from_users', 'reviews_from_critics', 'budget_',\n",
    "       'usa_gross_income_', 'worlwide_gross_income_', 'usa_revenue',\n",
    "       'worlwide_revenue',]]"
   ]
  },
  {
   "cell_type": "code",
   "execution_count": 23,
   "id": "79b1c1a4",
   "metadata": {},
   "outputs": [],
   "source": [
    "#Converting the dataframe into a csv file and saving it to the current directory\n",
    "df_.to_csv('data.csv',index = False)"
   ]
  },
  {
   "cell_type": "code",
   "execution_count": 24,
   "id": "2f93a2e8",
   "metadata": {},
   "outputs": [],
   "source": [
    "#This function takes a company name as a parameter and then create a sliced dataframe with this production comapny only,\n",
    "#and then saving it to the current directory as a csv file\n",
    "def Production_comp(comp_name):\n",
    "    df_ = df[df['production_company'] == comp_name]\n",
    "    df_.to_csv(comp_name + \".csv\",index = False)\n",
    "    "
   ]
  },
  {
   "cell_type": "code",
   "execution_count": 25,
   "id": "6440a067",
   "metadata": {},
   "outputs": [],
   "source": [
    "Production_comp(\"Universal Pictures\")\n",
    "Production_comp(\"Walt Disney Pictures\")\n",
    "Production_comp(\"Warner Bros.\")"
   ]
  }
 ],
 "metadata": {
  "kernelspec": {
   "display_name": "Python 3",
   "language": "python",
   "name": "python3"
  },
  "language_info": {
   "codemirror_mode": {
    "name": "ipython",
    "version": 3
   },
   "file_extension": ".py",
   "mimetype": "text/x-python",
   "name": "python",
   "nbconvert_exporter": "python",
   "pygments_lexer": "ipython3",
   "version": "3.8.8"
  }
 },
 "nbformat": 4,
 "nbformat_minor": 5
}
